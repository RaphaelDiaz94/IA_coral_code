{
 "cells": [
  {
   "cell_type": "code",
   "execution_count": 1,
   "id": "92f0d007",
   "metadata": {},
   "outputs": [],
   "source": [
    "import cv2\n",
    "import os\n",
    "import glob\n",
    "import matplotlib.pyplot as plt\n",
    "import pandas as pd\n",
    "from tensorflow import keras"
   ]
  },
  {
   "cell_type": "code",
   "execution_count": null,
   "id": "a07e5d2b",
   "metadata": {},
   "outputs": [],
   "source": [
    "import pathlib\n",
    "from glob import glob \n",
    "\n",
    "pain = glob(\"C:\\\\Users\\\\flori\\\\Pictures\\\\IA\\\\VisDrone2019-DET-train\\\\images_new\\\\*.jpg\")\n",
    "for i in range(len(pain)) :\n",
    "\n",
    "    path = pain[i]\n",
    "    filename = pathlib.Path(path).stem\n",
    "    image = cv2.imread(path)\n",
    "    h=100\n",
    "    w=200\n",
    "    w,h = image.shape[:-1]\n",
    "    diff = h-w\n",
    "    crop = image[:, int(diff/2):int(w+diff/2)]\n",
    "    crop.shape\n",
    "    cv2.imwrite(\"C:\\\\Users\\\\flori\\\\Pictures\\\\IA\\\\VisDrone2019-DET-train\\\\images\\\\\"+filename+\".jpg\",crop)\n",
    "print(\"fin\")"
   ]
  },
  {
   "cell_type": "code",
   "execution_count": null,
   "id": "018dfaf6",
   "metadata": {},
   "outputs": [],
   "source": [
    "for i in range(len(pain)) :\n",
    "\n",
    "    path = pain[i]\n",
    "    filename = pathlib.Path(path).stem\n",
    "    image = cv2.imread(path)\n",
    "    w,h = image.shape[:-1]\n",
    "    print(\"w:\",w,\"h:\",h)\n",
    "\n",
    "print(\"fin\")"
   ]
  },
  {
   "cell_type": "code",
   "execution_count": null,
   "id": "9c2432f7",
   "metadata": {},
   "outputs": [],
   "source": []
  }
 ],
 "metadata": {
  "kernelspec": {
   "display_name": "Python 3 (ipykernel)",
   "language": "python",
   "name": "python3"
  },
  "language_info": {
   "codemirror_mode": {
    "name": "ipython",
    "version": 3
   },
   "file_extension": ".py",
   "mimetype": "text/x-python",
   "name": "python",
   "nbconvert_exporter": "python",
   "pygments_lexer": "ipython3",
   "version": "3.9.7"
  }
 },
 "nbformat": 4,
 "nbformat_minor": 5
}
