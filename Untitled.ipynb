{
 "cells": [
  {
   "cell_type": "code",
   "execution_count": null,
   "id": "a0363dda",
   "metadata": {
    "scrolled": true
   },
   "outputs": [],
   "source": [
    "from PIL import Image\n",
    "from PIL import ImageDraw\n",
    "from PIL import ImageFont\n",
    "import os\n",
    "import random\n",
    "import numpy as np\n",
    "import tflite_runtime.interpreter as tflite \n",
    "from pycoral.adapters import common\n",
    "from pycoral.adapters import detect\n",
    "from pycoral.utils.dataset import read_label_file\n",
    "\n",
    "def draw_objects(draw, objs, scale_factor, labels):\n",
    "  \"\"\"Draws the bounding box and label for each object.\"\"\"\n",
    "  COLORS = np.random.randint(0, 255, size=(len(labels), 3), dtype=np.uint8)\n",
    "  for obj in objs:\n",
    "    bbox = obj.bbox\n",
    "    color = tuple(int(c) for c in COLORS[obj.id])\n",
    "    draw.rectangle([(bbox.xmin * scale_factor, bbox.ymin * scale_factor),\n",
    "                    (bbox.xmax * scale_factor, bbox.ymax * scale_factor)],\n",
    "                   outline=color, width=3)\n",
    "    font = ImageFont.truetype(\"LiberationSans-Regular.ttf\", size=15)\n",
    "    draw.text((bbox.xmin * scale_factor + 4, bbox.ymin * scale_factor + 4),\n",
    "              '%s\\n%.2f' % (labels.get(obj.id, obj.id), obj.score),\n",
    "              fill=color, font=font)\n",
    "\n",
    "    \n",
    "TFLITE_FILENAME = 'efficientdet-lite-new111.tflite'\n",
    "LABELS_FILENAME = 'labels.txt'\n",
    "\n",
    "images_path = (os.path.join(\"C:\\\\Users\\\\diazy\\\\OneDrive\\\\YNOV\\\\2021-2022\\\\IA_EMB\\\\projet_fil_rouge\\\\split-dataset\\\\test\", \"images_new\"))\n",
    "filenames = os.listdir(os.path.join(images_path))\n",
    "random_index = random.randint(0,len(filenames)-1)\n",
    "INPUT_IMAGE = os.path.join(images_path, filenames[random_index])\n",
    "\n",
    "\n",
    "# Load the TF Lite model\n",
    "labels = read_label_file(LABELS_FILENAME)\n",
    "interpreter = tflite.Interpreter(TFLITE_FILENAME)\n",
    "interpreter.allocate_tensors()\n",
    "\n",
    "# Resize the image for input\n",
    "image = Image.open(INPUT_IMAGE)\n",
    "_, scale = common.set_resized_input(\n",
    "    interpreter, image.size, lambda size: image.resize(size, Image.ANTIALIAS))\n",
    "\n",
    "# Run inference\n",
    "interpreter.invoke()\n",
    "objs = detect.get_objects(interpreter, score_threshold=0.4, image_scale=scale)\n",
    "\n",
    "# Resize again to a reasonable size for display\n",
    "display_width = 500\n",
    "scale_factor = display_width / image.width\n",
    "height_ratio = image.height / image.width\n",
    "image = image.resize((display_width, int(display_width * height_ratio)))\n",
    "draw_objects(ImageDraw.Draw(image), objs, scale_factor, labels)\n",
    "image"
   ]
  },
  {
   "cell_type": "code",
   "execution_count": 2,
   "id": "4220b425",
   "metadata": {},
   "outputs": [
    {
     "name": "stdout",
     "output_type": "stream",
     "text": [
      "efficientdet-lite-new111.tflite\n"
     ]
    }
   ],
   "source": [
    "print(TFLITE_FILENAME)"
   ]
  },
  {
   "cell_type": "code",
   "execution_count": null,
   "id": "8bdf6081",
   "metadata": {},
   "outputs": [],
   "source": []
  }
 ],
 "metadata": {
  "kernelspec": {
   "display_name": "Python 3 (ipykernel)",
   "language": "python",
   "name": "python3"
  },
  "language_info": {
   "codemirror_mode": {
    "name": "ipython",
    "version": 3
   },
   "file_extension": ".py",
   "mimetype": "text/x-python",
   "name": "python",
   "nbconvert_exporter": "python",
   "pygments_lexer": "ipython3",
   "version": "3.9.7"
  }
 },
 "nbformat": 4,
 "nbformat_minor": 5
}
